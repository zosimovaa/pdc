{
 "cells": [
  {
   "cell_type": "code",
   "execution_count": 1,
   "metadata": {},
   "outputs": [],
   "source": [
    "import sys\n",
    "import os\n",
    "import numpy as np\n",
    "PLNX_LIBS_PATH = \"/Users/alex/Dev_projects/MyOwnRepo/poloniex_api/src\"\n",
    "RT_LIBS_PATH = \"/Users/alex/Dev_projects/MyOwnRepo/rt_libs/src\"\n",
    "BA_LIBS_PATH = \"/Users/alex/Dev_projects/MyOwnRepo/basic_application/src\"\n",
    "sys.path.append(PLNX_LIBS_PATH)\n",
    "sys.path.append(RT_LIBS_PATH)\n",
    "sys.path.append(BA_LIBS_PATH)"
   ]
  },
  {
   "cell_type": "code",
   "execution_count": 2,
   "metadata": {},
   "outputs": [],
   "source": [
    "from poloniex import PublicAPI, PublicAPIError\n",
    "import time\n",
    "\n",
    "import numpy as np\n",
    "import pandas as pd\n",
    "\n",
    "import pickle\n",
    "\n",
    "from data_providers import ClickHouseConnector\n",
    "from data_providers import DbDataProviderUniversal"
   ]
  },
  {
   "cell_type": "code",
   "execution_count": 3,
   "metadata": {},
   "outputs": [],
   "source": [
    "%matplotlib notebook\n",
    "db_connect_params = {\n",
    "    \"host\" : \"217.197.116.177\",\n",
    "    \"port\" : 59000,\n",
    "    \"user\" : \"alex\",\n",
    "    \"password\" : \"Xrxcmr758\",\n",
    "    \"database\" : \"rt_dev\"\n",
    "}"
   ]
  },
  {
   "cell_type": "code",
   "execution_count": 4,
   "metadata": {},
   "outputs": [
    {
     "name": "stderr",
     "output_type": "stream",
     "text": [
      "Cursor created, database connection established\n",
      "Cursor closed\n"
     ]
    }
   ],
   "source": [
    "# Значение ts\n",
    "\n",
    "query = \"select max(ts) from trades where pair=%(pair)s\"\n",
    "\n",
    "params = {\"pair\": \"USDT_BTdC\"}\n",
    "with ClickHouseConnector(db_connect_params) as connector:\n",
    "    connector.cursor.execute(query, parameters=params)\n",
    "    raw_data = connector.cursor.fetchall()\n",
    "    data_length = connector.cursor.rowcount"
   ]
  },
  {
   "cell_type": "code",
   "execution_count": 73,
   "metadata": {},
   "outputs": [
    {
     "data": {
      "text/plain": [
       "[(0,)]"
      ]
     },
     "execution_count": 73,
     "metadata": {},
     "output_type": "execute_result"
    }
   ],
   "source": [
    "raw_data"
   ]
  },
  {
   "cell_type": "code",
   "execution_count": 16,
   "metadata": {},
   "outputs": [],
   "source": [
    "import requests\n",
    "import datetime\n",
    "import pytz\n",
    "\n",
    "# import logging\n",
    "# logger = logging.getLogger(__name__)\n",
    "\n",
    "\n",
    "class PublicAPIError(Exception):\n",
    "    \"\"\"Ошибка при обращении к публичному API\"\"\"\n",
    "    CODES = {\n",
    "        \"req_error\": \"PUBLIC_API_ERROR:REQUEST_ERROR\",\n",
    "        \"unknown_cmd\": \"PUBLIC_API_ERROR:UNKNOWN_COMMAND\",\n",
    "        \"bad_period\": \"PUBLIC_API_ERROR:BAD_PERIOD\"\n",
    "    }\n",
    "\n",
    "    def __init__(self, err_code, method, body=None):\n",
    "        self.err_code = self.CODES[err_code]\n",
    "        self.method = method\n",
    "        self.body = body\n",
    "\n",
    "    def __str__(self):\n",
    "        message = \"Code: {0}. Method: {1}\".format(self.err_code, self.method)\n",
    "        if self.body is not None:\n",
    "            message += \". Response: {0})\".format(self.body)\n",
    "        return message\n",
    "\n",
    "\n",
    "class PublicAPI:\n",
    "    \"\"\"Класс реализует работу с публичным API poloniex.com\"\"\"\n",
    "    PUBLIC_API_URL = \"https://poloniex.com/public?command=\"\n",
    "    PERIODS = [300, 900, 1800, 7200, 14400, 86400]\n",
    "\n",
    "    def execute(self, command):\n",
    "        try:\n",
    "            response_raw = requests.get(self.PUBLIC_API_URL + command)\n",
    "            response = response_raw.json()\n",
    "        except Exception as e:\n",
    "            raise PublicAPIError(\"req_error\", command, body=e)\n",
    "\n",
    "        if 'error' in response:\n",
    "            raise PublicAPIError(response[\"error\"], command, body=response)\n",
    "\n",
    "        return response\n",
    "\n",
    "    def get_orderbook(self, currencyPair, depth):\n",
    "        \"\"\"\n",
    "        Returns the order book for a given market\n",
    "        :param str currencyPair: A string that defines the market, \"USDT_BTC\" for example. Use \"all\" for all markets.\n",
    "        :param int depth: Default depth is 50. Max depth is 100.\n",
    "        :return: orderbook\n",
    "        \"\"\"\n",
    "        command = \"returnOrderBook&currencyPair={0}&depth={1}\".format(currencyPair, depth)\n",
    "        response = self.execute(command)\n",
    "        return response\n",
    "\n",
    "    def get_chartdata(self, currencyPair, period, start, end):\n",
    "        \"\"\"\n",
    "        Returns candlestick chart data.\n",
    "        :param str currencyPair: A string that defines the market, \"USDT_BTC\" for example.\n",
    "        :param int period: Candlestick period in seconds. Valid values are 300, 900, 1800, 7200, 14400, and 86400.\n",
    "        :param int start: The start of the window in seconds since the unix epoch.\n",
    "        :param int end: The end of the window in seconds since the unix epoch.\n",
    "        \"\"\"\n",
    "        if period not in self.PERIODS:\n",
    "            raise PublicAPIError(\"bad_period\", \"returnChartData\", body=period)\n",
    "\n",
    "        if isinstance(start, str):\n",
    "            start = self.date_to_unix_ts_in_utc(start)\n",
    "\n",
    "        if isinstance(end, str):\n",
    "            end = self.date_to_unix_ts_in_utc(end)\n",
    "\n",
    "        command = \"returnChartData&currencyPair={0}&start={1}&end={2}&period={3}\".format(currencyPair, start, end,\n",
    "                                                                                         period)\n",
    "        response = self.execute(command)\n",
    "        return response\n",
    "\n",
    "    def get_trade_history(self, currencyPair, start, end):\n",
    "        \"\"\"\n",
    "        Returns the past 200 trades for a given market,\n",
    "        or up to 1,000 trades between a range specified in UNIX timestamps\n",
    "        by the \"start\" and \"end\" GET parameters\n",
    "        :param str currencyPair: A string that defines the market, \"USDT_BTC\" for example. Use \"all\" for all markets.\n",
    "        :param int start: The start of the window in seconds since the unix epoch.\n",
    "        :param int end: The end of the window in seconds since the unix epoch.\n",
    "        :return: list of trade operation\n",
    "        \"\"\"\n",
    "        if isinstance(start, str):\n",
    "            start = self.date_to_unix_ts_in_utc(start)\n",
    "\n",
    "        if isinstance(end, str):\n",
    "            end = self.date_to_unix_ts_in_utc(end)\n",
    "\n",
    "        command = \"returnTradeHistory&currencyPair={0}&start={1}&end={2}\"\n",
    "\n",
    "        pages = []\n",
    "        done = False\n",
    "        while not done:\n",
    "            response = self.execute(command.format(currencyPair, start, end))\n",
    "            response.sort(key=lambda x: x[\"date\"], reverse=True)\n",
    "\n",
    "            if len(response):\n",
    "                pages += response\n",
    "                end = self.date_to_unix_ts_in_utc(response[-1][\"date\"]) - 1\n",
    "\n",
    "                #clear_output(wait=True)\n",
    "                #print(\"Осталось: {0}\".format(end - start))\n",
    "\n",
    "            else:\n",
    "                done = True\n",
    "                #clear_output(wait=True)\n",
    "                #print(\"done\")\n",
    "        return pages\n",
    "\n",
    "    def get_trade_history_batch(self, currency_pair, start, end):\n",
    "        \"\"\"\n",
    "        Returns the past 200 trades for a given market,\n",
    "        or up to 1,000 trades between a range specified in UNIX timestamps\n",
    "        by the \"start\" and \"end\" GET parameters\n",
    "        :param str currency_pair: A string that defines the market, \"USDT_BTC\" for example. Use \"all\" for all markets.\n",
    "        :param int start: The start of the window in seconds since the unix epoch.\n",
    "        :param int end: The end of the window in seconds since the unix epoch.\n",
    "        :return: list of trade operation\n",
    "        \"\"\"\n",
    "        if isinstance(start, str):\n",
    "            start = self.date_to_unix_ts_in_utc(start)\n",
    "\n",
    "        if isinstance(end, str):\n",
    "            end = self.date_to_unix_ts_in_utc(end)\n",
    "\n",
    "        command = \"returnTradeHistory&currencyPair={0}&start={1}&end={2}\"\n",
    "        done = False\n",
    "        while not done:\n",
    "            response = self.execute(command.format(currency_pair, start, end))\n",
    "            response.sort(key=lambda x: x[\"date\"], reverse=True)\n",
    "\n",
    "            if len(response):\n",
    "                yield response\n",
    "                end = self.date_to_unix_ts_in_utc(response[-1][\"date\"]) - 1\n",
    "                if end <= start:\n",
    "                    done = True\n",
    "            else:\n",
    "                done = True\n",
    "\n",
    "    def get_tickers(self):\n",
    "        \"\"\"\n",
    "        Retrieves summary information for each currency pair listed on the exchange\n",
    "        :return: dict with tickers\n",
    "        \"\"\"\n",
    "        command = \"returnTicker\"\n",
    "        response = self.execute(command)\n",
    "        return response\n",
    "\n",
    "    def get_24hvolume(self):\n",
    "        \"\"\"\n",
    "        Returns the 24-hour volume for all markets as well as totals for primary currencies.\n",
    "        :return: dict with tickers volume\n",
    "        \"\"\"\n",
    "        command = \"return24hVolume\"\n",
    "        response = self.execute(command)\n",
    "        return response\n",
    "\n",
    "    def get_currencies(self):\n",
    "        \"\"\"\n",
    "        Returns the 24-hour volume for all markets as well as totals for primary currencies.\n",
    "        :return: dict with tickers volume\n",
    "        \"\"\"\n",
    "        command = \"returnCurrencies\"\n",
    "        response = self.execute(command)\n",
    "        return response\n",
    "\n",
    "    @staticmethod\n",
    "    def date_to_unix_ts_in_utc(date):\n",
    "        timezone = pytz.timezone(\"UTC\")\n",
    "        without_timezone = datetime.datetime.strptime(date, \"%Y-%m-%d %H:%M:%S\")\n",
    "        with_timezone = timezone.localize(without_timezone)\n",
    "        return int(with_timezone.timestamp())\n"
   ]
  },
  {
   "cell_type": "code",
   "execution_count": 15,
   "metadata": {},
   "outputs": [
    {
     "name": "stdout",
     "output_type": "stream",
     "text": [
      "{'error': 'Invalid currency pair.'}\n"
     ]
    }
   ],
   "source": [
    "# данные о торговы операциях\n",
    "api = PublicAPI()\n",
    "\n",
    "start = \"2022-07-10 12:00:00\"\n",
    "end = \"2022-07-10 18:00:01\"\n",
    "\n",
    "pair = \"USDT_BTCs\"\n",
    "trades = api.get_trade_history(pair, start, end)\n"
   ]
  },
  {
   "cell_type": "code",
   "execution_count": 6,
   "metadata": {
    "scrolled": true
   },
   "outputs": [
    {
     "data": {
      "text/plain": [
       "{'globalTradeID': 708478759,\n",
       " 'tradeID': 52440374,\n",
       " 'date': '2022-07-10 17:59:50',\n",
       " 'type': 'sell',\n",
       " 'rate': '20902.28459619',\n",
       " 'amount': '0.00006073',\n",
       " 'total': '1.26939574',\n",
       " 'orderNumber': 1291925773129}"
      ]
     },
     "execution_count": 6,
     "metadata": {},
     "output_type": "execute_result"
    }
   ],
   "source": [
    "trades[0]"
   ]
  },
  {
   "cell_type": "code",
   "execution_count": 10,
   "metadata": {},
   "outputs": [
    {
     "name": "stdout",
     "output_type": "stream",
     "text": [
      "2010-09-10 06:51:25\n"
     ]
    }
   ],
   "source": [
    "from datetime import datetime\n",
    "ts = int('1284101485')\n",
    "\n",
    "# if you encounter a \"year is out of range\" error the timestamp\n",
    "# may be in milliseconds, try `ts /= 1000` in that case\n"
   ]
  },
  {
   "cell_type": "code",
   "execution_count": null,
   "metadata": {},
   "outputs": [],
   "source": [
    "ts = int()\n",
    "\n",
    "print(datetime.utcfromtimestamp(ts).strftime('%Y-%m-%d %H:%M:%S'))"
   ]
  },
  {
   "cell_type": "code",
   "execution_count": null,
   "metadata": {},
   "outputs": [],
   "source": []
  },
  {
   "cell_type": "code",
   "execution_count": null,
   "metadata": {},
   "outputs": [],
   "source": []
  },
  {
   "cell_type": "code",
   "execution_count": null,
   "metadata": {},
   "outputs": [],
   "source": []
  },
  {
   "cell_type": "code",
   "execution_count": null,
   "metadata": {},
   "outputs": [],
   "source": []
  },
  {
   "cell_type": "code",
   "execution_count": null,
   "metadata": {},
   "outputs": [],
   "source": []
  },
  {
   "cell_type": "code",
   "execution_count": 11,
   "metadata": {},
   "outputs": [
    {
     "name": "stdout",
     "output_type": "stream",
     "text": [
      "{'0.001': 10, '0.002': 5} {}\n",
      "[10.  5.] []\n"
     ]
    }
   ],
   "source": [
    "import numpy as np\n",
    "orderbook = {\"asks\":{\"0.001\":10, \"0.002\":5}}\n",
    "\n",
    "\n",
    "asks = dict(orderbook.get(\"asks\", []))\n",
    "bids = dict(orderbook.get(\"bids\", []))\n",
    "\n",
    "print(asks, bids)\n",
    "\n",
    "vols_asks = np.array(list(map(float, asks.values())))\n",
    "vols_bids = np.array(list(map(float, bids.values())))\n",
    "\n",
    "print(vols_asks, vols_bids)"
   ]
  },
  {
   "cell_type": "code",
   "execution_count": 6,
   "metadata": {},
   "outputs": [],
   "source": []
  },
  {
   "cell_type": "code",
   "execution_count": 7,
   "metadata": {},
   "outputs": [],
   "source": [
    "q = \"\"\"\n",
    "\n",
    "WITH\n",
    "    toUInt32(%(period)s) AS p_period,\n",
    "    toUInt32(%(start)s) AS ts_min,\n",
    "    toUInt32(%(end)s+p_period) AS ts_max,\n",
    "    toUInt32(%(step)s) AS step,\n",
    "    %(pair)s AS p_pair\n",
    "\n",
    "\n",
    "SELECT \n",
    "\n",
    "\tperiod + ts_min as ts,\n",
    "\tlowest_ask,\n",
    "\thighest_bid,\n",
    "\tasks,\n",
    "\tbids\n",
    "\n",
    "\tFROM\n",
    "\n",
    "\n",
    "\t(SELECT \n",
    "        ts-ts_min as ts_local, \n",
    "        CEIL((ts-ts_min) / p_period) * p_period AS period, \n",
    "        lowest_ask,\n",
    "        highest_bid, \n",
    "        asks,\n",
    "        bids\n",
    "\n",
    "    FROM rt.orderbook2\n",
    "    WHERE ts BETWEEN ts_min AND ts_max and pair = p_pair\n",
    "    ORDER BY ts DESC) AS TB_DATA\n",
    "    \n",
    "    RIGHT JOIN \n",
    "\t\t(SELECT arrayJoin(range(p_period, toUInt32(ts_max - CEIL((ts_min)/ p_period) * p_period + p_period), p_period)) AS ts_main) AS TB_TS ON TB_DATA.period = TB_TS.ts_main\n",
    "\n",
    "\n",
    "\"\"\""
   ]
  },
  {
   "cell_type": "code",
   "execution_count": null,
   "metadata": {},
   "outputs": [],
   "source": [
    "start\n",
    "end\n",
    "period\n",
    "pairs\n",
    "step=60\n",
    "\n",
    "\n",
    "\n",
    "with ClickHouseConnector(db_connect_params) as connector:\n",
    "    dp = DbDataProviderUniversal(connector, q)\n",
    "\n",
    "    \n",
    "    data = dp.get()\n"
   ]
  },
  {
   "cell_type": "code",
   "execution_count": 8,
   "metadata": {},
   "outputs": [
    {
     "name": "stderr",
     "output_type": "stream",
     "text": [
      "Cursor created, database connection established\n",
      "Cursor closed\n"
     ]
    },
    {
     "ename": "OperationalError",
     "evalue": "Code: 62.\nDB::Exception: Syntax error: failed at position 21 ('%') (line 4, col 14): %(period)s) AS p_period,\n    toUInt32(%(start)s) AS ts_min,\n    toUInt32(%(end)s+p_period) AS ts_max,\n    toUInt32(%(step)s) AS step,\n    %(pair)s AS p_pair\n\n\nS. Expected one of: ALL, DISTINCT, list of expressions, list of elements, expression with optional alias, element of expression with optional alias, lambda expression, token, OpeningRoundBracket, identifier, Arrow, expression with ternary operator, logical-OR expression, list, delimited by operator of variable arity, logical-AND expression, logical-NOT expression, expression with prefix unary operator, NOT, nullity checking, comparison expression, list, delimited by binary operators, BETWEEN expression, string concatenation expression, additive expression, INTERVAL operator expression, INTERVAL, TIMESTAMP operator expression, TIMESTAMP, DATE operator expression, DATE, multiplicative expression, unary expression, CAST expression, tuple element expression, array element expression, element of expression, SELECT subquery, CAST operator, tuple, collection of literals, parenthesized expression, array, literal, NULL, number, Bool, true, false, string literal, case, CASE, COLUMNS matcher, COLUMNS, function, qualified asterisk, compound identifier, asterisk, substitution, MySQL-style global variable. Stack trace:\n\n0. DB::Exception::Exception(std::__1::basic_string<char, std::__1::char_traits<char>, std::__1::allocator<char> > const&, int, bool) @ 0xb8a20fa in /usr/bin/clickhouse\n1. DB::parseQueryAndMovePosition(DB::IParser&, char const*&, char const*, std::__1::basic_string<char, std::__1::char_traits<char>, std::__1::allocator<char> > const&, bool, unsigned long, unsigned long) @ 0x1771669f in /usr/bin/clickhouse\n2. ? @ 0x1655fe42 in /usr/bin/clickhouse\n3. DB::executeQuery(std::__1::basic_string<char, std::__1::char_traits<char>, std::__1::allocator<char> > const&, std::__1::shared_ptr<DB::Context>, bool, DB::QueryProcessingStage::Enum) @ 0x1655fa95 in /usr/bin/clickhouse\n4. DB::TCPHandler::runImpl() @ 0x171424fa in /usr/bin/clickhouse\n5. DB::TCPHandler::run() @ 0x17154ab9 in /usr/bin/clickhouse\n6. Poco::Net::TCPServerConnection::start() @ 0x19dbd2d3 in /usr/bin/clickhouse\n7. Poco::Net::TCPServerDispatcher::run() @ 0x19dbe651 in /usr/bin/clickhouse\n8. Poco::PooledThread::run() @ 0x19f6f91b in /usr/bin/clickhouse\n9. Poco::ThreadImpl::runnableEntry(void*) @ 0x19f6d020 in /usr/bin/clickhouse\n10. ? @ 0x7efc95d2e609 in ?\n11. clone @ 0x7efc95c53163 in ?\n",
     "output_type": "error",
     "traceback": [
      "\u001b[0;31m---------------------------------------------------------------------------\u001b[0m",
      "\u001b[0;31mServerException\u001b[0m                           Traceback (most recent call last)",
      "File \u001b[0;32m~/Dev_projects/venvs/env_rt_p39/lib/python3.9/site-packages/clickhouse_driver/dbapi/cursor.py:111\u001b[0m, in \u001b[0;36mCursor.execute\u001b[0;34m(self, operation, parameters)\u001b[0m\n\u001b[1;32m    109\u001b[0m     execute, execute_kwargs \u001b[38;5;241m=\u001b[39m \u001b[38;5;28mself\u001b[39m\u001b[38;5;241m.\u001b[39m_prepare()\n\u001b[0;32m--> 111\u001b[0m     response \u001b[38;5;241m=\u001b[39m \u001b[43mexecute\u001b[49m\u001b[43m(\u001b[49m\n\u001b[1;32m    112\u001b[0m \u001b[43m        \u001b[49m\u001b[43moperation\u001b[49m\u001b[43m,\u001b[49m\u001b[43m \u001b[49m\u001b[43mparams\u001b[49m\u001b[38;5;241;43m=\u001b[39;49m\u001b[43mparameters\u001b[49m\u001b[43m,\u001b[49m\u001b[43m \u001b[49m\u001b[43mwith_column_types\u001b[49m\u001b[38;5;241;43m=\u001b[39;49m\u001b[38;5;28;43;01mTrue\u001b[39;49;00m\u001b[43m,\u001b[49m\n\u001b[1;32m    113\u001b[0m \u001b[43m        \u001b[49m\u001b[38;5;241;43m*\u001b[39;49m\u001b[38;5;241;43m*\u001b[39;49m\u001b[43mexecute_kwargs\u001b[49m\n\u001b[1;32m    114\u001b[0m \u001b[43m    \u001b[49m\u001b[43m)\u001b[49m\n\u001b[1;32m    116\u001b[0m \u001b[38;5;28;01mexcept\u001b[39;00m DriverError \u001b[38;5;28;01mas\u001b[39;00m orig:\n",
      "File \u001b[0;32m~/Dev_projects/venvs/env_rt_p39/lib/python3.9/site-packages/clickhouse_driver/client.py:296\u001b[0m, in \u001b[0;36mClient.execute\u001b[0;34m(self, query, params, with_column_types, external_tables, query_id, settings, types_check, columnar)\u001b[0m\n\u001b[1;32m    295\u001b[0m \u001b[38;5;28;01melse\u001b[39;00m:\n\u001b[0;32m--> 296\u001b[0m     rv \u001b[38;5;241m=\u001b[39m \u001b[38;5;28;43mself\u001b[39;49m\u001b[38;5;241;43m.\u001b[39;49m\u001b[43mprocess_ordinary_query\u001b[49m\u001b[43m(\u001b[49m\n\u001b[1;32m    297\u001b[0m \u001b[43m        \u001b[49m\u001b[43mquery\u001b[49m\u001b[43m,\u001b[49m\u001b[43m \u001b[49m\u001b[43mparams\u001b[49m\u001b[38;5;241;43m=\u001b[39;49m\u001b[43mparams\u001b[49m\u001b[43m,\u001b[49m\u001b[43m \u001b[49m\u001b[43mwith_column_types\u001b[49m\u001b[38;5;241;43m=\u001b[39;49m\u001b[43mwith_column_types\u001b[49m\u001b[43m,\u001b[49m\n\u001b[1;32m    298\u001b[0m \u001b[43m        \u001b[49m\u001b[43mexternal_tables\u001b[49m\u001b[38;5;241;43m=\u001b[39;49m\u001b[43mexternal_tables\u001b[49m\u001b[43m,\u001b[49m\n\u001b[1;32m    299\u001b[0m \u001b[43m        \u001b[49m\u001b[43mquery_id\u001b[49m\u001b[38;5;241;43m=\u001b[39;49m\u001b[43mquery_id\u001b[49m\u001b[43m,\u001b[49m\u001b[43m \u001b[49m\u001b[43mtypes_check\u001b[49m\u001b[38;5;241;43m=\u001b[39;49m\u001b[43mtypes_check\u001b[49m\u001b[43m,\u001b[49m\n\u001b[1;32m    300\u001b[0m \u001b[43m        \u001b[49m\u001b[43mcolumnar\u001b[49m\u001b[38;5;241;43m=\u001b[39;49m\u001b[43mcolumnar\u001b[49m\n\u001b[1;32m    301\u001b[0m \u001b[43m    \u001b[49m\u001b[43m)\u001b[49m\n\u001b[1;32m    302\u001b[0m \u001b[38;5;28mself\u001b[39m\u001b[38;5;241m.\u001b[39mlast_query\u001b[38;5;241m.\u001b[39mstore_elapsed(time() \u001b[38;5;241m-\u001b[39m start_time)\n",
      "File \u001b[0;32m~/Dev_projects/venvs/env_rt_p39/lib/python3.9/site-packages/clickhouse_driver/client.py:482\u001b[0m, in \u001b[0;36mClient.process_ordinary_query\u001b[0;34m(self, query, params, with_column_types, external_tables, query_id, types_check, columnar)\u001b[0m\n\u001b[1;32m    480\u001b[0m \u001b[38;5;28mself\u001b[39m\u001b[38;5;241m.\u001b[39mconnection\u001b[38;5;241m.\u001b[39msend_external_tables(external_tables,\n\u001b[1;32m    481\u001b[0m                                      types_check\u001b[38;5;241m=\u001b[39mtypes_check)\n\u001b[0;32m--> 482\u001b[0m \u001b[38;5;28;01mreturn\u001b[39;00m \u001b[38;5;28;43mself\u001b[39;49m\u001b[38;5;241;43m.\u001b[39;49m\u001b[43mreceive_result\u001b[49m\u001b[43m(\u001b[49m\u001b[43mwith_column_types\u001b[49m\u001b[38;5;241;43m=\u001b[39;49m\u001b[43mwith_column_types\u001b[49m\u001b[43m,\u001b[49m\n\u001b[1;32m    483\u001b[0m \u001b[43m                           \u001b[49m\u001b[43mcolumnar\u001b[49m\u001b[38;5;241;43m=\u001b[39;49m\u001b[43mcolumnar\u001b[49m\u001b[43m)\u001b[49m\n",
      "File \u001b[0;32m~/Dev_projects/venvs/env_rt_p39/lib/python3.9/site-packages/clickhouse_driver/client.py:143\u001b[0m, in \u001b[0;36mClient.receive_result\u001b[0;34m(self, with_column_types, progress, columnar)\u001b[0m\n\u001b[1;32m    140\u001b[0m result \u001b[38;5;241m=\u001b[39m \u001b[38;5;28mself\u001b[39m\u001b[38;5;241m.\u001b[39mquery_result_cls(\n\u001b[1;32m    141\u001b[0m     gen, with_column_types\u001b[38;5;241m=\u001b[39mwith_column_types, columnar\u001b[38;5;241m=\u001b[39mcolumnar\n\u001b[1;32m    142\u001b[0m )\n\u001b[0;32m--> 143\u001b[0m \u001b[38;5;28;01mreturn\u001b[39;00m \u001b[43mresult\u001b[49m\u001b[38;5;241;43m.\u001b[39;49m\u001b[43mget_result\u001b[49m\u001b[43m(\u001b[49m\u001b[43m)\u001b[49m\n",
      "File \u001b[0;32m~/Dev_projects/venvs/env_rt_p39/lib/python3.9/site-packages/clickhouse_driver/result.py:50\u001b[0m, in \u001b[0;36mQueryResult.get_result\u001b[0;34m(self)\u001b[0m\n\u001b[1;32m     46\u001b[0m \u001b[38;5;124;03m\"\"\"\u001b[39;00m\n\u001b[1;32m     47\u001b[0m \u001b[38;5;124;03m:return: stored query result.\u001b[39;00m\n\u001b[1;32m     48\u001b[0m \u001b[38;5;124;03m\"\"\"\u001b[39;00m\n\u001b[0;32m---> 50\u001b[0m \u001b[38;5;28;01mfor\u001b[39;00m packet \u001b[38;5;129;01min\u001b[39;00m \u001b[38;5;28mself\u001b[39m\u001b[38;5;241m.\u001b[39mpacket_generator:\n\u001b[1;32m     51\u001b[0m     \u001b[38;5;28mself\u001b[39m\u001b[38;5;241m.\u001b[39mstore(packet)\n",
      "File \u001b[0;32m~/Dev_projects/venvs/env_rt_p39/lib/python3.9/site-packages/clickhouse_driver/client.py:159\u001b[0m, in \u001b[0;36mClient.packet_generator\u001b[0;34m(self)\u001b[0m\n\u001b[1;32m    158\u001b[0m \u001b[38;5;28;01mtry\u001b[39;00m:\n\u001b[0;32m--> 159\u001b[0m     packet \u001b[38;5;241m=\u001b[39m \u001b[38;5;28;43mself\u001b[39;49m\u001b[38;5;241;43m.\u001b[39;49m\u001b[43mreceive_packet\u001b[49m\u001b[43m(\u001b[49m\u001b[43m)\u001b[49m\n\u001b[1;32m    160\u001b[0m     \u001b[38;5;28;01mif\u001b[39;00m \u001b[38;5;129;01mnot\u001b[39;00m packet:\n",
      "File \u001b[0;32m~/Dev_projects/venvs/env_rt_p39/lib/python3.9/site-packages/clickhouse_driver/client.py:176\u001b[0m, in \u001b[0;36mClient.receive_packet\u001b[0;34m(self)\u001b[0m\n\u001b[1;32m    175\u001b[0m \u001b[38;5;28;01mif\u001b[39;00m packet\u001b[38;5;241m.\u001b[39mtype \u001b[38;5;241m==\u001b[39m ServerPacketTypes\u001b[38;5;241m.\u001b[39mEXCEPTION:\n\u001b[0;32m--> 176\u001b[0m     \u001b[38;5;28;01mraise\u001b[39;00m packet\u001b[38;5;241m.\u001b[39mexception\n\u001b[1;32m    178\u001b[0m \u001b[38;5;28;01melif\u001b[39;00m packet\u001b[38;5;241m.\u001b[39mtype \u001b[38;5;241m==\u001b[39m ServerPacketTypes\u001b[38;5;241m.\u001b[39mPROGRESS:\n",
      "\u001b[0;31mServerException\u001b[0m: Code: 62.\nDB::Exception: Syntax error: failed at position 21 ('%') (line 4, col 14): %(period)s) AS p_period,\n    toUInt32(%(start)s) AS ts_min,\n    toUInt32(%(end)s+p_period) AS ts_max,\n    toUInt32(%(step)s) AS step,\n    %(pair)s AS p_pair\n\n\nS. Expected one of: ALL, DISTINCT, list of expressions, list of elements, expression with optional alias, element of expression with optional alias, lambda expression, token, OpeningRoundBracket, identifier, Arrow, expression with ternary operator, logical-OR expression, list, delimited by operator of variable arity, logical-AND expression, logical-NOT expression, expression with prefix unary operator, NOT, nullity checking, comparison expression, list, delimited by binary operators, BETWEEN expression, string concatenation expression, additive expression, INTERVAL operator expression, INTERVAL, TIMESTAMP operator expression, TIMESTAMP, DATE operator expression, DATE, multiplicative expression, unary expression, CAST expression, tuple element expression, array element expression, element of expression, SELECT subquery, CAST operator, tuple, collection of literals, parenthesized expression, array, literal, NULL, number, Bool, true, false, string literal, case, CASE, COLUMNS matcher, COLUMNS, function, qualified asterisk, compound identifier, asterisk, substitution, MySQL-style global variable. Stack trace:\n\n0. DB::Exception::Exception(std::__1::basic_string<char, std::__1::char_traits<char>, std::__1::allocator<char> > const&, int, bool) @ 0xb8a20fa in /usr/bin/clickhouse\n1. DB::parseQueryAndMovePosition(DB::IParser&, char const*&, char const*, std::__1::basic_string<char, std::__1::char_traits<char>, std::__1::allocator<char> > const&, bool, unsigned long, unsigned long) @ 0x1771669f in /usr/bin/clickhouse\n2. ? @ 0x1655fe42 in /usr/bin/clickhouse\n3. DB::executeQuery(std::__1::basic_string<char, std::__1::char_traits<char>, std::__1::allocator<char> > const&, std::__1::shared_ptr<DB::Context>, bool, DB::QueryProcessingStage::Enum) @ 0x1655fa95 in /usr/bin/clickhouse\n4. DB::TCPHandler::runImpl() @ 0x171424fa in /usr/bin/clickhouse\n5. DB::TCPHandler::run() @ 0x17154ab9 in /usr/bin/clickhouse\n6. Poco::Net::TCPServerConnection::start() @ 0x19dbd2d3 in /usr/bin/clickhouse\n7. Poco::Net::TCPServerDispatcher::run() @ 0x19dbe651 in /usr/bin/clickhouse\n8. Poco::PooledThread::run() @ 0x19f6f91b in /usr/bin/clickhouse\n9. Poco::ThreadImpl::runnableEntry(void*) @ 0x19f6d020 in /usr/bin/clickhouse\n10. ? @ 0x7efc95d2e609 in ?\n11. clone @ 0x7efc95c53163 in ?\n",
      "\nDuring handling of the above exception, another exception occurred:\n",
      "\u001b[0;31mOperationalError\u001b[0m                          Traceback (most recent call last)",
      "Input \u001b[0;32mIn [8]\u001b[0m, in \u001b[0;36m<cell line: 1>\u001b[0;34m()\u001b[0m\n\u001b[1;32m      1\u001b[0m \u001b[38;5;28;01mwith\u001b[39;00m ClickHouseConnector(db_connect_params) \u001b[38;5;28;01mas\u001b[39;00m connector:\n\u001b[0;32m----> 2\u001b[0m     \u001b[43mconnector\u001b[49m\u001b[38;5;241;43m.\u001b[39;49m\u001b[43mcursor\u001b[49m\u001b[38;5;241;43m.\u001b[39;49m\u001b[43mexecute\u001b[49m\u001b[43m(\u001b[49m\u001b[43mq\u001b[49m\u001b[43m)\u001b[49m\n\u001b[1;32m      3\u001b[0m     raw_data \u001b[38;5;241m=\u001b[39m connector\u001b[38;5;241m.\u001b[39mcursor\u001b[38;5;241m.\u001b[39mfetchall()\n\u001b[1;32m      4\u001b[0m     data_length \u001b[38;5;241m=\u001b[39m connector\u001b[38;5;241m.\u001b[39mcursor\u001b[38;5;241m.\u001b[39mrowcount\n",
      "File \u001b[0;32m~/Dev_projects/venvs/env_rt_p39/lib/python3.9/site-packages/clickhouse_driver/dbapi/cursor.py:117\u001b[0m, in \u001b[0;36mCursor.execute\u001b[0;34m(self, operation, parameters)\u001b[0m\n\u001b[1;32m    111\u001b[0m     response \u001b[38;5;241m=\u001b[39m execute(\n\u001b[1;32m    112\u001b[0m         operation, params\u001b[38;5;241m=\u001b[39mparameters, with_column_types\u001b[38;5;241m=\u001b[39m\u001b[38;5;28;01mTrue\u001b[39;00m,\n\u001b[1;32m    113\u001b[0m         \u001b[38;5;241m*\u001b[39m\u001b[38;5;241m*\u001b[39mexecute_kwargs\n\u001b[1;32m    114\u001b[0m     )\n\u001b[1;32m    116\u001b[0m \u001b[38;5;28;01mexcept\u001b[39;00m DriverError \u001b[38;5;28;01mas\u001b[39;00m orig:\n\u001b[0;32m--> 117\u001b[0m     \u001b[38;5;28;01mraise\u001b[39;00m OperationalError(orig)\n\u001b[1;32m    119\u001b[0m \u001b[38;5;28mself\u001b[39m\u001b[38;5;241m.\u001b[39m_process_response(response)\n\u001b[1;32m    120\u001b[0m \u001b[38;5;28mself\u001b[39m\u001b[38;5;241m.\u001b[39m_end_query()\n",
      "\u001b[0;31mOperationalError\u001b[0m: Code: 62.\nDB::Exception: Syntax error: failed at position 21 ('%') (line 4, col 14): %(period)s) AS p_period,\n    toUInt32(%(start)s) AS ts_min,\n    toUInt32(%(end)s+p_period) AS ts_max,\n    toUInt32(%(step)s) AS step,\n    %(pair)s AS p_pair\n\n\nS. Expected one of: ALL, DISTINCT, list of expressions, list of elements, expression with optional alias, element of expression with optional alias, lambda expression, token, OpeningRoundBracket, identifier, Arrow, expression with ternary operator, logical-OR expression, list, delimited by operator of variable arity, logical-AND expression, logical-NOT expression, expression with prefix unary operator, NOT, nullity checking, comparison expression, list, delimited by binary operators, BETWEEN expression, string concatenation expression, additive expression, INTERVAL operator expression, INTERVAL, TIMESTAMP operator expression, TIMESTAMP, DATE operator expression, DATE, multiplicative expression, unary expression, CAST expression, tuple element expression, array element expression, element of expression, SELECT subquery, CAST operator, tuple, collection of literals, parenthesized expression, array, literal, NULL, number, Bool, true, false, string literal, case, CASE, COLUMNS matcher, COLUMNS, function, qualified asterisk, compound identifier, asterisk, substitution, MySQL-style global variable. Stack trace:\n\n0. DB::Exception::Exception(std::__1::basic_string<char, std::__1::char_traits<char>, std::__1::allocator<char> > const&, int, bool) @ 0xb8a20fa in /usr/bin/clickhouse\n1. DB::parseQueryAndMovePosition(DB::IParser&, char const*&, char const*, std::__1::basic_string<char, std::__1::char_traits<char>, std::__1::allocator<char> > const&, bool, unsigned long, unsigned long) @ 0x1771669f in /usr/bin/clickhouse\n2. ? @ 0x1655fe42 in /usr/bin/clickhouse\n3. DB::executeQuery(std::__1::basic_string<char, std::__1::char_traits<char>, std::__1::allocator<char> > const&, std::__1::shared_ptr<DB::Context>, bool, DB::QueryProcessingStage::Enum) @ 0x1655fa95 in /usr/bin/clickhouse\n4. DB::TCPHandler::runImpl() @ 0x171424fa in /usr/bin/clickhouse\n5. DB::TCPHandler::run() @ 0x17154ab9 in /usr/bin/clickhouse\n6. Poco::Net::TCPServerConnection::start() @ 0x19dbd2d3 in /usr/bin/clickhouse\n7. Poco::Net::TCPServerDispatcher::run() @ 0x19dbe651 in /usr/bin/clickhouse\n8. Poco::PooledThread::run() @ 0x19f6f91b in /usr/bin/clickhouse\n9. Poco::ThreadImpl::runnableEntry(void*) @ 0x19f6d020 in /usr/bin/clickhouse\n10. ? @ 0x7efc95d2e609 in ?\n11. clone @ 0x7efc95c53163 in ?\n"
     ]
    }
   ],
   "source": [
    "with ClickHouseConnector(db_connect_params) as connector:\n",
    "    connector.cursor.execute(q)\n",
    "    raw_data = connector.cursor.fetchall()\n",
    "    data_length = connector.cursor.rowcount"
   ]
  },
  {
   "cell_type": "markdown",
   "metadata": {},
   "source": [
    "##  Пост обработка"
   ]
  },
  {
   "cell_type": "code",
   "execution_count": 304,
   "metadata": {},
   "outputs": [],
   "source": [
    "# функция расчета highest_bid,lowest_ask\n",
    "def get_rates(asks, bids):\n",
    "    lowest_ask = np.min(np.array(list(map(float, asks.keys()))))\n",
    "    highest_bid = np.max(np.array(list(map(float, bids.keys()))))\n",
    "    return lowest_ask, highest_bid\n",
    "# ----------------------------------------\n",
    "\n",
    "# функция расчета маски\n",
    "LEVELS = [0.005, 0.01, 0.02, 0.03, 0.05]\n",
    "def get_volumes(asks, bids, lowest_ask, highest_bid):\n",
    "    keys_asks = np.array(list(map(float, asks.keys())))\n",
    "    vols_asks = np.array(list(map(float, asks.values())))\n",
    "    keys_bids = np.array(list(map(float, bids.keys())))\n",
    "    vols_bids = np.array(list(map(float, bids.values())))\n",
    "    \n",
    "    asks_sum, bids_sum = [], []\n",
    "    for coef in LEVELS:\n",
    "        mask_ask = keys_asks < lowest_ask * (1 + coef)\n",
    "        asks_sum.append(sum(vols_asks[mask_ask]))\n",
    "\n",
    "        mask_bid = keys_bids > highest_bid * (1 - coef)\n",
    "        bids_sum.append(sum(vols_bids[mask_bid]))\n",
    "    \n",
    "    return np.array(asks_sum), np.array(bids_sum)"
   ]
  },
  {
   "cell_type": "code",
   "execution_count": 305,
   "metadata": {},
   "outputs": [],
   "source": [
    "\n"
   ]
  },
  {
   "cell_type": "code",
   "execution_count": 306,
   "metadata": {},
   "outputs": [],
   "source": [
    "row_current = raw_data[0]\n",
    "asks = row_current[2]\n",
    "bids = row_current[3]\n",
    "\n",
    "lowest_ask, highest_bid = get_rates(asks, bids)\n",
    "\n",
    "asks_vol, bids_vol = get_volumes(asks, bids, lowest_ask, highest_bid)"
   ]
  },
  {
   "cell_type": "code",
   "execution_count": 311,
   "metadata": {},
   "outputs": [],
   "source": [
    "row_previous = raw_data[1]\n",
    "asks = row_previous[2]\n",
    "bids = row_previous[3]\n",
    "\n",
    "asks_vol_prev, bids_vol_pev = get_volumes(asks, bids, lowest_ask, highest_bid)"
   ]
  },
  {
   "cell_type": "code",
   "execution_count": 315,
   "metadata": {},
   "outputs": [
    {
     "data": {
      "text/plain": [
       "array([-0.90830162, -0.90637021, -0.90637021, -0.90637021, -0.90637021])"
      ]
     },
     "execution_count": 315,
     "metadata": {},
     "output_type": "execute_result"
    }
   ],
   "source": [
    "asks_vol - asks_vol_prev"
   ]
  },
  {
   "cell_type": "code",
   "execution_count": null,
   "metadata": {},
   "outputs": [],
   "source": []
  },
  {
   "cell_type": "markdown",
   "metadata": {},
   "source": [
    "# Арпоксимация orderbook"
   ]
  },
  {
   "cell_type": "code",
   "execution_count": 14,
   "metadata": {},
   "outputs": [],
   "source": [
    "pair = \"BTC_XMR\"\n",
    "ob_1 = api.get_orderbook(pair, 100)\n",
    "ts = int(time.time())"
   ]
  },
  {
   "cell_type": "code",
   "execution_count": 395,
   "metadata": {},
   "outputs": [],
   "source": [
    "asks = dict(ob_1[\"asks\"])\n",
    "bids = dict(ob_1[\"bids\"])\n",
    "\n",
    "isFrozen = bool(int(ob_1[\"isFrozen\"]))\n",
    "postOnly = bool(int(ob_1[\"postOnly\"]))\n",
    "\n",
    "data = []\n",
    "record = [ts, pair, asks, bids, isFrozen, postOnly]\n",
    "data.append(record)"
   ]
  },
  {
   "cell_type": "code",
   "execution_count": 420,
   "metadata": {},
   "outputs": [],
   "source": [
    "LEVELS = [0, 0.1, 0.2, 0.3, 0.4, 0.5, 0.7, 0.9, 1.1, 1.3, 1.5, 1.75, 2.0, 2.25, 2.5, 2.75, 3.0, 100]\n",
    "\n",
    "LEVELS = [0, 0.2, 0.4, 0.6, 0.8, 1, 1.25, 1.5, 1.75, 2, 2.25, 2.5, 2.75, 3, 3.5, 4, 4.5, 5, 5.5, 6, 6.5, 7, 7.5, 100]"
   ]
  },
  {
   "cell_type": "code",
   "execution_count": 424,
   "metadata": {},
   "outputs": [],
   "source": [
    "def resample_ob(asks, bids):\n",
    "    \n",
    "    TEMPL = \"{:.8f}\"\n",
    "\n",
    "    keys_asks = np.array(list(map(float, asks.keys())))\n",
    "    vols_asks = np.array(list(map(float, asks.values())))\n",
    "    keys_bids = np.array(list(map(float, bids.keys())))\n",
    "    vols_bids = np.array(list(map(float, bids.values())))\n",
    "\n",
    "    lowest_ask = min(keys_asks)\n",
    "    highest_bid = max(keys_bids)\n",
    "\n",
    "    asks_resampled = dict()\n",
    "    key = TEMPL.format(lowest_ask)\n",
    "    asks_resampled[key] = asks[key]\n",
    "\n",
    "    bids_resampled = dict()\n",
    "    key = TEMPL.format(highest_bid)\n",
    "    bids_resampled[key] = bids[key]\n",
    "\n",
    "    for idx in np.arange(1, len(LEVELS)):\n",
    "        mask_ask = (keys_asks > lowest_ask * (1 + LEVELS[idx-1]/100.)) & (keys_asks <= lowest_ask * (1 + LEVELS[idx]/100.))\n",
    "        value = np.round(sum(vols_asks[mask_ask]), 8)\n",
    "        key = TEMPL.format(lowest_ask * (1 + LEVELS[idx]/100.))\n",
    "        asks_resampled[key] = value\n",
    "\n",
    "        mask_bid = (keys_bids < highest_bid * (1 - LEVELS[idx-1]/100.)) & (keys_bids >= highest_bid * (1 - LEVELS[idx]/100.))\n",
    "        value = np.round(sum(vols_bids[mask_bid]),8 )\n",
    "        key = TEMPL.format(highest_bid * (1 - LEVELS[idx]/100.))\n",
    "        bids_resampled[key] = value\n",
    "        \n",
    "    return asks_resampled, bids_resampled\n",
    "\n",
    "\n",
    "asks_resampled, bids_resampled = resample_ob(asks, bids)\n",
    "    \n",
    "    \n",
    "\n",
    "    \n",
    "    \n",
    "    "
   ]
  },
  {
   "cell_type": "code",
   "execution_count": 425,
   "metadata": {},
   "outputs": [
    {
     "data": {
      "text/plain": [
       "{'0.00616191': 0.37541865,\n",
       " '0.00617423': 15.95311894,\n",
       " '0.00618656': 5.0,\n",
       " '0.00619888': 59.7,\n",
       " '0.00621121': 0.08529045,\n",
       " '0.00622353': 6.92699843,\n",
       " '0.00623893': 0.55705701,\n",
       " '0.00625434': 28.89005107,\n",
       " '0.00626974': 1.14874215,\n",
       " '0.00628515': 0.4,\n",
       " '0.00630055': 53.32383531,\n",
       " '0.00631596': 6.30613541,\n",
       " '0.00633136': 0,\n",
       " '0.00634677': 0.98149297,\n",
       " '0.00637758': 53.22707403,\n",
       " '0.00640839': 65.04185393,\n",
       " '0.00643920': 0.84741609,\n",
       " '0.00647001': 60.35126729,\n",
       " '0.00650082': 62.38967033,\n",
       " '0.00653162': 5.71407428,\n",
       " '0.00656243': 53.96412118,\n",
       " '0.00659324': 8.51375563,\n",
       " '0.00662405': 53.81567377,\n",
       " '0.01232382': 175.25381259}"
      ]
     },
     "execution_count": 425,
     "metadata": {},
     "output_type": "execute_result"
    }
   ],
   "source": [
    "asks_resampled"
   ]
  },
  {
   "cell_type": "code",
   "execution_count": 426,
   "metadata": {},
   "outputs": [
    {
     "data": {
      "text/plain": [
       "{'0.00615560': 0.02162258,\n",
       " '0.00614329': 0.04878049,\n",
       " '0.00613098': 3.63287452,\n",
       " '0.00611867': 77.56280331,\n",
       " '0.00610636': 0.16357135,\n",
       " '0.00609404': 5.82440337,\n",
       " '0.00607865': 31.42230216,\n",
       " '0.00606327': 14.582437,\n",
       " '0.00604788': 0.09251823,\n",
       " '0.00603249': 5.27938537,\n",
       " '0.00601710': 0.61451573,\n",
       " '0.00600171': 0.06351775,\n",
       " '0.00598632': 55.64323124,\n",
       " '0.00597093': 11.35828994,\n",
       " '0.00594015': 53.97395532,\n",
       " '0.00590938': 6.04083334,\n",
       " '0.00587860': 55.26618697,\n",
       " '0.00584782': 59.1282941,\n",
       " '0.00581704': 0.90827999,\n",
       " '0.00578626': 59.98792606,\n",
       " '0.00575549': 0.66564304,\n",
       " '0.00572471': 60.54629841,\n",
       " '0.00569393': 56.64729748,\n",
       " '0.00000000': 6.1963242}"
      ]
     },
     "execution_count": 426,
     "metadata": {},
     "output_type": "execute_result"
    }
   ],
   "source": [
    "bids_resampled"
   ]
  },
  {
   "cell_type": "code",
   "execution_count": null,
   "metadata": {},
   "outputs": [],
   "source": []
  },
  {
   "cell_type": "code",
   "execution_count": null,
   "metadata": {},
   "outputs": [],
   "source": []
  },
  {
   "cell_type": "code",
   "execution_count": null,
   "metadata": {},
   "outputs": [],
   "source": []
  },
  {
   "cell_type": "code",
   "execution_count": 287,
   "metadata": {},
   "outputs": [],
   "source": [
    "for idx in np.arange(1, len(raw_data), 1):\n",
    "\n",
    "    last_row = raw_data[idx-1]\n",
    "    curr_row = raw_data[idx]\n",
    "    \n",
    "    asks = last_row[2]\n",
    "    bids = last_row[3]\n",
    "    \n",
    "    lowest_ask, highest_bid = get_rates(asks, bids)\n",
    "    \n",
    "    ask_vol, \n",
    "    \n",
    "    "
   ]
  },
  {
   "cell_type": "code",
   "execution_count": null,
   "metadata": {},
   "outputs": [],
   "source": []
  },
  {
   "cell_type": "code",
   "execution_count": null,
   "metadata": {},
   "outputs": [],
   "source": []
  },
  {
   "cell_type": "code",
   "execution_count": null,
   "metadata": {},
   "outputs": [],
   "source": []
  },
  {
   "cell_type": "code",
   "execution_count": null,
   "metadata": {},
   "outputs": [],
   "source": []
  },
  {
   "cell_type": "code",
   "execution_count": null,
   "metadata": {},
   "outputs": [],
   "source": []
  },
  {
   "cell_type": "code",
   "execution_count": null,
   "metadata": {},
   "outputs": [],
   "source": []
  },
  {
   "cell_type": "code",
   "execution_count": null,
   "metadata": {},
   "outputs": [],
   "source": []
  },
  {
   "cell_type": "code",
   "execution_count": null,
   "metadata": {},
   "outputs": [],
   "source": []
  },
  {
   "cell_type": "code",
   "execution_count": null,
   "metadata": {},
   "outputs": [],
   "source": []
  },
  {
   "cell_type": "code",
   "execution_count": null,
   "metadata": {},
   "outputs": [],
   "source": []
  },
  {
   "cell_type": "code",
   "execution_count": null,
   "metadata": {},
   "outputs": [],
   "source": []
  },
  {
   "cell_type": "code",
   "execution_count": null,
   "metadata": {},
   "outputs": [],
   "source": []
  },
  {
   "cell_type": "code",
   "execution_count": 6,
   "metadata": {},
   "outputs": [],
   "source": [
    "api = PublicAPI()"
   ]
  },
  {
   "cell_type": "code",
   "execution_count": 175,
   "metadata": {},
   "outputs": [],
   "source": [
    "pair = \"USDT_BTC\"\n",
    "ob_1 = api.get_orderbook(pair, 30)\n",
    "#time.sleep(10)"
   ]
  },
  {
   "cell_type": "code",
   "execution_count": 56,
   "metadata": {},
   "outputs": [],
   "source": [
    "asks_1 = dict(ob_1[\"asks\"])\n",
    "bids_1 = dict(ob_1[\"bids\"])\n",
    "\n",
    "asks_2 = dict(ob_2[\"asks\"])\n",
    "bids_2 = dict(ob_2[\"bids\"])"
   ]
  },
  {
   "cell_type": "code",
   "execution_count": 174,
   "metadata": {},
   "outputs": [
    {
     "data": {
      "text/plain": [
       "{'asks': [['19433.70000000', 9.9e-05],\n",
       "  ['19443.70565382', 0.00176794],\n",
       "  ['19443.70566383', 0.17],\n",
       "  ['19448.65228888', 0.15],\n",
       "  ['19448.91647128', 0.00332021],\n",
       "  ['19457.47191502', 0.5],\n",
       "  ['19460.62054852', 0.00231746],\n",
       "  ['19465.49463482', 0.00239519],\n",
       "  ['19466.90840497', 0.23748013],\n",
       "  ['19467.00000000', 0.000504],\n",
       "  ['19472.60580486', 0.00223101],\n",
       "  ['19477.90856022', 0.00210157],\n",
       "  ['19487.44846671', 0.85323017],\n",
       "  ['19492.20000000', 0.188],\n",
       "  ['19495.35825471', 0.0149876],\n",
       "  ['19506.80000000', 0.39],\n",
       "  ['19508.15435397', 0.00308486],\n",
       "  ['19522.45872000', 0.0024319],\n",
       "  ['19525.20000000', 0.71],\n",
       "  ['19529.27356505', 0.49482612],\n",
       "  ['19540.31550000', 3.95],\n",
       "  ['19544.05069752', 0.37399885],\n",
       "  ['19548.00000000', 0.00298748],\n",
       "  ['19560.98099837', 0.00103124],\n",
       "  ['19593.22214360', 0.00013858],\n",
       "  ['19605.69961398', 0.00306951],\n",
       "  ['19615.16876207', 0.04922],\n",
       "  ['19629.56307120', 0.0009],\n",
       "  ['19635.45127267', 0.03006042],\n",
       "  ['19638.02556690', 0.00013827],\n",
       "  ['19639.45000000', 0.907],\n",
       "  ['19650.45335543', 0.00399536],\n",
       "  ['19662.76450384', 0.00257177],\n",
       "  ['19664.73078024', 0.00223259],\n",
       "  ['19680.64550590', 0.00013797],\n",
       "  ['19687.96414710', 0.00013792],\n",
       "  ['19690.00000000', 0.0127008],\n",
       "  ['19697.56343257', 0.01460338],\n",
       "  ['19700.35743078', 0.0002538],\n",
       "  ['19707.27911610', 0.00228341],\n",
       "  ['19722.37323693', 0.00011177],\n",
       "  ['19722.53779998', 0.00305133],\n",
       "  ['19725.00000000', 7e-05],\n",
       "  ['19733.44109767', 0.00010931],\n",
       "  ['19736.10044842', 0.00011223],\n",
       "  ['19736.17914683', 0.00011164],\n",
       "  ['19750.00000000', 0.0007595],\n",
       "  ['19750.35743078', 0.00025315],\n",
       "  ['19758.10789904', 0.00010931],\n",
       "  ['19762.26685840', 0.0001374],\n",
       "  ['19782.80553392', 0.00010931],\n",
       "  ['19785.87001760', 0.00013724],\n",
       "  ['19796.09774110', 0.00011222],\n",
       "  ['19797.29702750', 0.0030398],\n",
       "  ['19800.00000000', 0.02],\n",
       "  ['19801.43136614', 0.00850226],\n",
       "  ['19802.27819161', 0.00025249],\n",
       "  ['19807.53404083', 0.00010931],\n",
       "  ['19810.23523762', 0.00268026],\n",
       "  ['19812.21626109', 0.00232677],\n",
       "  ['19818.50361555', 0.00011289],\n",
       "  ['19828.21082287', 0.0001137],\n",
       "  ['19832.29345838', 0.00010931],\n",
       "  ['19833.71060244', 0.00152689],\n",
       "  ['19835.51710629', 0.00152675],\n",
       "  ['19841.44000000', 0.00169498],\n",
       "  ['19842.17391930', 0.00013685],\n",
       "  ['19845.00000000', 0.00755858],\n",
       "  ['19850.00000000', 0.00503779],\n",
       "  ['19857.08382521', 0.00010931],\n",
       "  ['19858.91828764', 0.00016278],\n",
       "  ['19879.18153291', 0.00151286],\n",
       "  ['19881.90517999', 0.00010931],\n",
       "  ['19886.05491698', 0.03116568],\n",
       "  ['19890.00000000', 1],\n",
       "  ['19896.52871976', 0.01533355],\n",
       "  ['19900.00000000', 0.01628141],\n",
       "  ['19902.27819161', 0.00025122],\n",
       "  ['19903.40089250', 0.02992626],\n",
       "  ['19906.75756146', 0.00010931],\n",
       "  ['19919.80480325', 0.00160064],\n",
       "  ['19922.00000000', 8e-05],\n",
       "  ['19927.63352588', 0.001],\n",
       "  ['19931.64100842', 0.00010931],\n",
       "  ['19952.56767248', 0.02],\n",
       "  ['19956.55555968', 0.00010931],\n",
       "  ['19958.81200191', 0.00279332],\n",
       "  ['19960.80788304', 0.00242492],\n",
       "  ['19965.59814537', 0.77719309],\n",
       "  ['19975.30000000', 0.00035729],\n",
       "  ['19981.50125413', 0.00010931],\n",
       "  ['19984.00559888', 5.812e-05],\n",
       "  ['19992.99784308', 0.00100036],\n",
       "  ['19999.99308191', 0.00044852],\n",
       "  ['20000.00000000', 0.38891274],\n",
       "  ['20004.01199562', 0.00850226],\n",
       "  ['20006.47813069', 0.00010931],\n",
       "  ['20012.16849370', 0.0004997],\n",
       "  ['20031.48622836', 0.00010931],\n",
       "  ['20049.89000000', 0.00030887]],\n",
       " 'bids': [['19433.69999999', 0.35873091],\n",
       "  ['19432.87029768', 0.99460323],\n",
       "  ['19432.74259775', 0.15],\n",
       "  ['19432.74258775', 0.17],\n",
       "  ['19426.91232247', 0.5],\n",
       "  ['19417.70000000', 0.188],\n",
       "  ['19411.19191130', 0.00013923],\n",
       "  ['19409.15548358', 0.00213508],\n",
       "  ['19404.23738873', 0.00243691],\n",
       "  ['19403.29292411', 0.01434859],\n",
       "  ['19403.10000000', 0.39],\n",
       "  ['19389.14923436', 0.5],\n",
       "  ['19389.14923435', 0.51644959],\n",
       "  ['19387.95045450', 0.0001394],\n",
       "  ['19369.40000000', 0.79],\n",
       "  ['19360.61050000', 3.776],\n",
       "  ['19354.00000000', 0.00485533],\n",
       "  ['19351.27087639', 0.00861193],\n",
       "  ['19351.06362278', 0.00028576],\n",
       "  ['19350.21507258', 0.00011902],\n",
       "  ['19344.71929689', 2.06749898],\n",
       "  ['19334.71933471', 6.051e-05],\n",
       "  ['19300.00000000', 0.015],\n",
       "  ['19277.23045476', 0.00169765],\n",
       "  ['19266.98108500', 0.00014028],\n",
       "  ['19229.09059857', 1.896],\n",
       "  ['19221.96567295', 0.00012554],\n",
       "  ['19204.70770025', 0.00017514],\n",
       "  ['19200.00000001', 0.00253867],\n",
       "  ['19200.00000000', 0.33739414],\n",
       "  ['19196.83201393', 0.00259433],\n",
       "  ['19188.60000000', 0.0002846],\n",
       "  ['19169.26230000', 0.00010797],\n",
       "  ['19166.05626446', 0.04800405],\n",
       "  ['19155.30055622', 0.00861193],\n",
       "  ['19150.47263626', 0.00026109],\n",
       "  ['19150.00000000', 1.96202856],\n",
       "  ['19142.12024710', 0.00019016],\n",
       "  ['19139.33276501', 0.04922],\n",
       "  ['19133.00000000', 0.3],\n",
       "  ['19130.91790167', 0.04922],\n",
       "  ['19129.72702510', 0.04922],\n",
       "  ['19116.69301977', 0.04922],\n",
       "  ['19104.30974370', 0.00014147],\n",
       "  ['19101.47883083', 6.763e-05],\n",
       "  ['19100.47263626', 0.00026177],\n",
       "  ['19092.20737599', 6.86e-05],\n",
       "  ['19084.45815021', 0.00180054],\n",
       "  ['19059.64920175', 0.02312384],\n",
       "  ['19050.00000000', 0.52599918],\n",
       "  ['19042.64421565', 0.79],\n",
       "  ['19028.16946922', 0.051835],\n",
       "  ['19020.55661493', 0.0001286],\n",
       "  ['19016.38271642', 6.59e-05],\n",
       "  ['19004.84433628', 0.05570368],\n",
       "  ['19000.94119781', 0.00026314],\n",
       "  ['19000.00000000', 0.01411444],\n",
       "  ['18983.32665700', 0.00032209],\n",
       "  ['18977.00000000', 0.00010357],\n",
       "  ['18976.85788875', 6.604e-05],\n",
       "  ['18975.87999677', 0.01162078],\n",
       "  ['18974.29141464', 0.01338623],\n",
       "  ['18971.55100000', 0.385],\n",
       "  ['18967.95957140', 0.00014249],\n",
       "  ['18967.70493556', 0.00022402],\n",
       "  ['18961.31482748', 0.00861193],\n",
       "  ['18950.47263626', 0.00026384],\n",
       "  ['18948.31442120', 0.00014263],\n",
       "  ['18930.79341350', 0.00014277],\n",
       "  ['18926.72301340', 0.0001428],\n",
       "  ['18918.29079466', 7.114e-05],\n",
       "  ['18915.28012000', 0.00014288],\n",
       "  ['18909.56510956', 0.00307809],\n",
       "  ['18909.48925278', 0.07326203],\n",
       "  ['18906.93719160', 0.00014295],\n",
       "  ['18906.44611900', 0.0052363],\n",
       "  ['18901.75129490', 0.00014299],\n",
       "  ['18900.00000000', 5.06408267],\n",
       "  ['18895.92019131', 0.00026503],\n",
       "  ['18893.61356871', 0.00190966],\n",
       "  ['18888.88888888', 0.02542302],\n",
       "  ['18873.19419337', 0.0002713],\n",
       "  ['18870.00000000', 0.00529942],\n",
       "  ['18850.14097734', 0.00026525],\n",
       "  ['18850.00000000', 0.00767808],\n",
       "  ['18843.64643558', 6.424e-05],\n",
       "  ['18834.00000000', 0.02],\n",
       "  ['18810.00000000', 0.01063264],\n",
       "  ['18800.47263626', 0.00026595],\n",
       "  ['18800.00000000', 0.72888391],\n",
       "  ['18792.38447373', 0.00012145],\n",
       "  ['18787.00000000', 6.785e-05],\n",
       "  ['18783.08145850', 0.00014389],\n",
       "  ['18782.35607811', 0.01331037],\n",
       "  ['18780.35213812', 0.00527146],\n",
       "  ['18769.29359222', 0.00861193],\n",
       "  ['18766.27662955', 0.00239792],\n",
       "  ['18759.98685317', 0.10955888],\n",
       "  ['18750.14097734', 0.00026666],\n",
       "  ['18727.28000000', 0.00172583]],\n",
       " 'isFrozen': '0',\n",
       " 'postOnly': '0',\n",
       " 'seq': 1883163038}"
      ]
     },
     "execution_count": 174,
     "metadata": {},
     "output_type": "execute_result"
    }
   ],
   "source": [
    "ob_2"
   ]
  },
  {
   "cell_type": "markdown",
   "metadata": {},
   "source": [
    "ts\n",
    "pair\n",
    "orderbook\n"
   ]
  },
  {
   "cell_type": "markdown",
   "metadata": {},
   "source": [
    "## Highest_bid"
   ]
  },
  {
   "cell_type": "code",
   "execution_count": 57,
   "metadata": {},
   "outputs": [],
   "source": [
    "LEVELS = [0.005, 0.01, 0.02, 0.03, 0.05]\n",
    "\n",
    "lowest_ask = np.min(np.array(list(map(float, asks_1.keys()))))\n",
    "highest_bid = np.max(np.array(list(map(float, bids_1.keys()))))\n",
    "\n",
    "keys_asks_1 = np.array(list(map(float, asks_1.keys())))\n",
    "vols_asks_1 = np.array(list(map(float, asks_1.values())))\n",
    "keys_bids_1 = np.array(list(map(float, bids_1.keys())))\n",
    "vols_bids_1 = np.array(list(map(float, bids_1.values())))\n",
    "\n",
    "\n",
    "keys_asks_2 = np.array(list(map(float, asks_2.keys())))\n",
    "vols_asks_2 = np.array(list(map(float, asks_2.values())))\n",
    "keys_bids_2 = np.array(list(map(float, bids_2.keys())))\n",
    "vols_bids_2 = np.array(list(map(float, bids_2.values())))\n"
   ]
  },
  {
   "cell_type": "code",
   "execution_count": 109,
   "metadata": {},
   "outputs": [
    {
     "name": "stdout",
     "output_type": "stream",
     "text": [
      "43.42586105\n",
      "40.42930147\n"
     ]
    }
   ],
   "source": [
    "ob_1 = api.get_orderbook(pair, 100)\n",
    "\n",
    "# функция расчета highest_bid,lowest_ask\n",
    "def get_rates(asks, bids):\n",
    "\n",
    "    lowest_ask = np.min(np.array(list(map(float, asks.keys()))))\n",
    "    highest_bid = np.max(np.array(list(map(float, bids.keys()))))\n",
    "    return lowest_ask, highest_bid\n",
    "\n",
    "# ----------------------------------------\n",
    "asks = dict(ob_1[\"asks\"])\n",
    "bids = dict(ob_1[\"bids\"])\n",
    "\n",
    "lowest_ask, highest_bid = get_rates(asks, bids)\n",
    "\n",
    "print(lowest_ask)\n",
    "print(highest_bid)\n",
    "\n",
    "\n",
    "\n",
    "\n",
    "def get_rate(orderbook, side='ask'):\n",
    "    if side == \"ask\":\n",
    "        # lowest_ask\n",
    "        value = np.min(np.array(list(map(float, asks.keys()))))\n",
    "    else:\n",
    "        # highest_bid\n",
    "        value = np.max(np.array(list(map(float, bids.keys()))))\n",
    "    return value\n",
    "\n",
    "# ----------------------------------------\n",
    "asks = dict(ob_1[\"asks\"])\n",
    "bids = dict(ob_1[\"bids\"])\n",
    "\n",
    "lowest_ask = get_rate(asks, side='ask')\n",
    "highest_bid = get_rate(bids, side='ask')\n",
    "\n",
    "print(lowest_ask)\n",
    "print(highest_bid)"
   ]
  },
  {
   "cell_type": "code",
   "execution_count": 113,
   "metadata": {},
   "outputs": [
    {
     "name": "stdout",
     "output_type": "stream",
     "text": [
      "[ True  True False False False False False False False False False False\n",
      " False False False False False False False False False False False False\n",
      " False False False False False False False False False False False False\n",
      " False False False False False False False False False False False False\n",
      " False False False False False False False False False False False False\n",
      " False False False False False False False False False False False False\n",
      " False False False False False False False False False False False False\n",
      " False False False False False False False False False False False False\n",
      " False False False False] \n",
      "\n",
      " [ True False False False False False False False False False False False\n",
      " False False False False False False False False False False]\n"
     ]
    }
   ],
   "source": [
    "# функция расчета маски\n",
    "def get_mask(orderbook, rate, threshold, side='ask'):\n",
    "    keys = np.array(list(map(float, orderbook.keys())))\n",
    "    vols = np.array(list(map(float, orderbook.values())))\n",
    "    \n",
    "    if side == \"ask\":\n",
    "        mask = keys < rate * (1 + threshold)\n",
    "    else:\n",
    "        mask = keys > rate * (1 - threshold)\n",
    "    return mask\n",
    "\n",
    "# ----------------------------------------\n",
    "\n",
    "ob = api.get_orderbook(pair, 100)\n",
    "threshold = 0.01\n",
    "\n",
    "asks = dict(ob[\"asks\"])\n",
    "lowest_ask = get_rate(asks, side='ask')\n",
    "mask_ask = get_mask(asks, lowest_ask, threshold, side='ask')\n",
    "\n",
    "bids = dict(ob[\"bids\"])\n",
    "highest_bid = get_rate(bids, side='bid')\n",
    "mask_bid = get_mask(bids, highest_bid, threshold, side='bid')\n",
    "\n",
    "print(mask_ask, \"\\n\\n\", mask_bid)"
   ]
  },
  {
   "cell_type": "code",
   "execution_count": 114,
   "metadata": {},
   "outputs": [],
   "source": [
    "pair = \"USDC_DASH\"\n",
    "ob_1 = api.get_orderbook(pair, 100)"
   ]
  },
  {
   "cell_type": "code",
   "execution_count": null,
   "metadata": {},
   "outputs": [],
   "source": [
    "ob_2 = api.get_orderbook(pair, 100)"
   ]
  },
  {
   "cell_type": "code",
   "execution_count": 115,
   "metadata": {},
   "outputs": [
    {
     "ename": "TypeError",
     "evalue": "unhashable type: 'numpy.ndarray'",
     "output_type": "error",
     "traceback": [
      "\u001b[0;31m---------------------------------------------------------------------------\u001b[0m",
      "\u001b[0;31mTypeError\u001b[0m                                 Traceback (most recent call last)",
      "Input \u001b[0;32mIn [115]\u001b[0m, in \u001b[0;36m<cell line: 14>\u001b[0;34m()\u001b[0m\n\u001b[1;32m     12\u001b[0m lowest_ask \u001b[38;5;241m=\u001b[39m get_rate(asks, side\u001b[38;5;241m=\u001b[39m\u001b[38;5;124m'\u001b[39m\u001b[38;5;124mask\u001b[39m\u001b[38;5;124m'\u001b[39m)\n\u001b[1;32m     13\u001b[0m mask_ask \u001b[38;5;241m=\u001b[39m get_mask(asks, lowest_ask, threshold, side\u001b[38;5;241m=\u001b[39m\u001b[38;5;124m'\u001b[39m\u001b[38;5;124mask\u001b[39m\u001b[38;5;124m'\u001b[39m)\n\u001b[0;32m---> 14\u001b[0m volume_1 \u001b[38;5;241m=\u001b[39m \u001b[43mget_volume\u001b[49m\u001b[43m(\u001b[49m\u001b[43masks\u001b[49m\u001b[43m,\u001b[49m\u001b[43m \u001b[49m\u001b[43mmask_ask\u001b[49m\u001b[43m)\u001b[49m\n\u001b[1;32m     16\u001b[0m asks_2 \u001b[38;5;241m=\u001b[39m \u001b[38;5;28mdict\u001b[39m(ob_2[\u001b[38;5;124m\"\u001b[39m\u001b[38;5;124masks\u001b[39m\u001b[38;5;124m\"\u001b[39m])\n\u001b[1;32m     17\u001b[0m mask_ask_2 \u001b[38;5;241m=\u001b[39m get_mask(asks_2, lowest_ask, threshold, side\u001b[38;5;241m=\u001b[39m\u001b[38;5;124m'\u001b[39m\u001b[38;5;124mask\u001b[39m\u001b[38;5;124m'\u001b[39m)\n",
      "Input \u001b[0;32mIn [115]\u001b[0m, in \u001b[0;36mget_volume\u001b[0;34m(orderbook, mask)\u001b[0m\n\u001b[1;32m      4\u001b[0m \u001b[38;5;28;01mdef\u001b[39;00m \u001b[38;5;21mget_volume\u001b[39m(orderbook, mask):\n\u001b[0;32m----> 5\u001b[0m     volume \u001b[38;5;241m=\u001b[39m \u001b[38;5;28msum\u001b[39m(\u001b[43morderbook\u001b[49m\u001b[43m[\u001b[49m\u001b[43mmask\u001b[49m\u001b[43m]\u001b[49m)\n\u001b[1;32m      6\u001b[0m     \u001b[38;5;28;01mreturn\u001b[39;00m volume\n",
      "\u001b[0;31mTypeError\u001b[0m: unhashable type: 'numpy.ndarray'"
     ]
    }
   ],
   "source": [
    "# Функция для расчета объемов по маске\n",
    "LEVELS = [0.005, 0.01, 0.02, 0.03, 0.05]\n",
    "\n",
    "def get_volume(orderbook, mask):\n",
    "    keys_asks = np.array(list(map(float, asks_1.keys())))\n",
    "    vols_asks = np.array(list(map(float, asks_1.values())))\n",
    "\n",
    "    volume = sum(orderbook[mask])\n",
    "    return volume\n",
    "\n",
    "# ============================================\n",
    "threshold = 0.01\n",
    "\n",
    "asks = dict(ob_1[\"asks\"])\n",
    "lowest_ask = get_rate(asks, side='ask')\n",
    "mask_ask = get_mask(asks, lowest_ask, threshold, side='ask')\n",
    "volume_1 = get_volume(asks, mask_ask)\n",
    "\n",
    "asks_2 = dict(ob_2[\"asks\"])\n",
    "mask_ask_2 = get_mask(asks_2, lowest_ask, threshold, side='ask')\n",
    "volume_2 = get_volume(asks_2, mask_ask_2)\n",
    "\n"
   ]
  },
  {
   "cell_type": "code",
   "execution_count": 176,
   "metadata": {},
   "outputs": [],
   "source": [
    "pair = \"USDT_BTC\"\n",
    "ob_1 = api.get_orderbook(pair, 100)"
   ]
  },
  {
   "cell_type": "code",
   "execution_count": 200,
   "metadata": {},
   "outputs": [],
   "source": [
    "ob_2 = api.get_orderbook(pair, 1001)"
   ]
  },
  {
   "cell_type": "code",
   "execution_count": 201,
   "metadata": {},
   "outputs": [],
   "source": [
    "LEVELS = [0.01, 0.02, 0.03, 0.05, 0.08]\n",
    "\n",
    "# функция расчета highest_bid,lowest_ask\n",
    "def get_rates(orderbook):\n",
    "    asks = dict(orderbook[\"asks\"])\n",
    "    bids = dict(orderbook[\"bids\"])\n",
    "    \n",
    "    lowest_ask = np.min(np.array(list(map(float, asks.keys()))))\n",
    "    highest_bid = np.max(np.array(list(map(float, bids.keys()))))\n",
    "    return lowest_ask, highest_bid\n",
    "\n",
    "\n",
    "def get_volumes(orderbook, lowest_ask, highest_bid):\n",
    "    asks = dict(orderbook[\"asks\"])\n",
    "    bids = dict(orderbook[\"bids\"])\n",
    "    \n",
    "    keys_asks = np.array(list(map(float, asks.keys())))\n",
    "    vols_asks = np.array(list(map(float, asks.values())))\n",
    "    keys_bids = np.array(list(map(float, bids.keys())))\n",
    "    vols_bids = np.array(list(map(float, bids.values())))\n",
    "\n",
    "    asks_sum, bids_sum = [], []\n",
    "    \n",
    "    for coef in LEVELS:\n",
    "        mask_ask = keys_asks < lowest_ask * (1 + coef)\n",
    "        asks_sum.append(sum(vols_asks[mask_ask]))\n",
    "\n",
    "        mask_bid = keys_bids > highest_bid * (1 - coef)\n",
    "        bids_sum.append(sum(vols_bids[mask_bid]))\n",
    "    \n",
    "    return np.array(asks_sum), np.array(bids_sum)\n",
    "\n",
    "\n",
    "lowest_ask, highest_bid = get_rates(ob_1)\n",
    "vol_asks, vol_bids = get_volumes(ob_1, lowest_ask, highest_bid)\n",
    "\n",
    "\n",
    "\n"
   ]
  },
  {
   "cell_type": "code",
   "execution_count": 202,
   "metadata": {},
   "outputs": [],
   "source": [
    "vol_asks_last, vol_bids_last = get_volumes(ob_2, lowest_ask, highest_bid)"
   ]
  },
  {
   "cell_type": "code",
   "execution_count": 203,
   "metadata": {},
   "outputs": [
    {
     "name": "stdout",
     "output_type": "stream",
     "text": [
      "[11.81066286 11.86399095 11.86399095 11.86399095 11.86399095]\n",
      "[ 9.07912039  9.21467345 11.17121359 11.64742202 11.64742202]\n",
      "[-2.73154247 -2.6493175  -0.69277736 -0.21656893 -0.21656893]\n"
     ]
    }
   ],
   "source": [
    "print(vol_asks)\n",
    "print(vol_asks_last)\n",
    "print(vol_asks_last - vol_asks)"
   ]
  },
  {
   "cell_type": "code",
   "execution_count": 204,
   "metadata": {},
   "outputs": [
    {
     "name": "stdout",
     "output_type": "stream",
     "text": [
      "[12.56790432 12.56790432 12.56790432 12.56790432 12.56790432]\n",
      "[ 5.04439496 14.63231595 20.74138815 20.74138815 20.74138815]\n",
      "[-7.52350936  2.06441163  8.17348383  8.17348383  8.17348383]\n"
     ]
    }
   ],
   "source": [
    "print(vol_bids)\n",
    "print(vol_bids_last)\n",
    "print(vol_bids_last - vol_bids)"
   ]
  },
  {
   "cell_type": "code",
   "execution_count": 188,
   "metadata": {},
   "outputs": [
    {
     "data": {
      "text/plain": [
       "array([-1.53487451, -1.58806402, -1.58806402, -1.58806402, -1.58806402])"
      ]
     },
     "execution_count": 188,
     "metadata": {},
     "output_type": "execute_result"
    }
   ],
   "source": []
  },
  {
   "cell_type": "code",
   "execution_count": 189,
   "metadata": {},
   "outputs": [
    {
     "data": {
      "text/plain": [
       "array([-0.05692265, -0.00377968, -0.00377968, -0.00377968, -0.00377968])"
      ]
     },
     "execution_count": 189,
     "metadata": {},
     "output_type": "execute_result"
    }
   ],
   "source": []
  },
  {
   "cell_type": "code",
   "execution_count": null,
   "metadata": {},
   "outputs": [],
   "source": []
  },
  {
   "cell_type": "code",
   "execution_count": 117,
   "metadata": {},
   "outputs": [
    {
     "data": {
      "text/plain": [
       "{'43.66600000': 0.054605,\n",
       " '45.66600000': 0.05748,\n",
       " '47.66600000': 0.05505,\n",
       " '49.66600000': 0.057945,\n",
       " '50.00000000': 3.8e-06,\n",
       " '67.77000000': 0.16642611,\n",
       " '75.08148519': 0.02,\n",
       " '79.08305123': 0.05178608,\n",
       " '80.00000000': 0.1336616,\n",
       " '80.66299221': 0.05235888,\n",
       " '80.83699378': 0.02,\n",
       " '82.36767366': 0.05288247,\n",
       " '84.19872965': 0.05341129,\n",
       " '85.10393666': 0.02,\n",
       " '86.15863256': 0.05394541,\n",
       " '88.25058966': 0.05448486,\n",
       " '89.09543172': 0.02,\n",
       " '90.47847510': 0.05502971,\n",
       " '92.84678616': 0.05558001,\n",
       " '95.36061672': 0.05613581,\n",
       " '98.02564355': 0.05669716,\n",
       " '100.84812242': 0.05726414,\n",
       " '106.99338486': 0.05783678,\n",
       " '123.45000000': 5.07983308,\n",
       " '125.00000000': 0.017616,\n",
       " '141.47143049': 0.29360566,\n",
       " '180.10000000': 0.1458097,\n",
       " '186.00000000': 0.0158656,\n",
       " '188.00000000': 5.65243853,\n",
       " '198.00000000': 1.1,\n",
       " '200.00000000': 6.01934952,\n",
       " '206.00000000': 0.47964101,\n",
       " '207.00000000': 0.35973076,\n",
       " '210.00000000': 11.36832018,\n",
       " '214.18730630': 0.0151,\n",
       " '220.00000000': 1.42592169,\n",
       " '220.69481332': 0.00533233,\n",
       " '245.00000000': 0.02760654,\n",
       " '250.00000000': 2.23438262,\n",
       " '252.35200000': 0.5,\n",
       " '254.00000000': 0.25,\n",
       " '260.00000000': 0.1,\n",
       " '280.00000000': 0.7258946,\n",
       " '287.41035984': 0.41179662,\n",
       " '289.00000000': 0.01,\n",
       " '293.00000000': 0.01212,\n",
       " '300.00000000': 1.65,\n",
       " '301.21989875': 5.93926933,\n",
       " '304.30929405': 0.00931525,\n",
       " '310.00000000': 2,\n",
       " '327.00000000': 0.26230679,\n",
       " '364.00000000': 0.02123886,\n",
       " '364.60365046': 0.00859735,\n",
       " '377.00000000': 0.11938704,\n",
       " '398.00000000': 1,\n",
       " '400.00000000': 2.77800369,\n",
       " '405.25535200': 0.00246758,\n",
       " '421.09863390': 0.00472381,\n",
       " '427.00000000': 1,\n",
       " '440.20339457': 0.01674438,\n",
       " '446.15384615': 0.17230578,\n",
       " '457.20133053': 0.0068561,\n",
       " '460.00000000': 0.0069587,\n",
       " '460.32000000': 2,\n",
       " '470.00000000': 0.25,\n",
       " '471.62500000': 0.03248701,\n",
       " '475.41706129': 0.03010311,\n",
       " '478.00000000': 1.67,\n",
       " '486.86126134': 0.3,\n",
       " '489.00000000': 0.03,\n",
       " '490.17156694': 0.92222456,\n",
       " '495.00000000': 1.25876431,\n",
       " '498.76543000': 0.46910063,\n",
       " '500.00000000': 4.26513161,\n",
       " '500.91677570': 2.01,\n",
       " '555.00000000': 0.00999,\n",
       " '570.00000000': 0.00789492,\n",
       " '600.00000000': 0.25,\n",
       " '666.00000000': 0.00999,\n",
       " '677.00000000': 0.26230679,\n",
       " '687.00000000': 0.1,\n",
       " '700.00000000': 0.25,\n",
       " '700.17156694': 2.07500526,\n",
       " '718.67263911': 0.4,\n",
       " '777.00000000': 0.009985,\n",
       " '800.00000000': 0.4215,\n",
       " '829.28252301': 0.50870816,\n",
       " '877.00000000': 0.12929801,\n",
       " '888.00000000': 0.009985,\n",
       " '900.00000000': 0.15131082,\n",
       " '900.17156694': 0.69166842,\n",
       " '983.10219000': 0.5,\n",
       " '987.00000000': 0.07988615,\n",
       " '999.00000000': 0.009985,\n",
       " '1000.93468463': 0.33994929,\n",
       " '1100.00000000': 3,\n",
       " '1111.00000000': 0.009985,\n",
       " '1144.00000000': 1.67,\n",
       " '1250.27910000': 0.5,\n",
       " '1252.28040396': 0.02751378}"
      ]
     },
     "execution_count": 117,
     "metadata": {},
     "output_type": "execute_result"
    }
   ],
   "source": [
    "asks"
   ]
  },
  {
   "cell_type": "code",
   "execution_count": null,
   "metadata": {},
   "outputs": [],
   "source": []
  },
  {
   "cell_type": "code",
   "execution_count": null,
   "metadata": {},
   "outputs": [],
   "source": []
  },
  {
   "cell_type": "code",
   "execution_count": null,
   "metadata": {},
   "outputs": [],
   "source": []
  },
  {
   "cell_type": "code",
   "execution_count": null,
   "metadata": {},
   "outputs": [],
   "source": []
  },
  {
   "cell_type": "code",
   "execution_count": null,
   "metadata": {},
   "outputs": [],
   "source": []
  },
  {
   "cell_type": "code",
   "execution_count": null,
   "metadata": {},
   "outputs": [],
   "source": []
  },
  {
   "cell_type": "code",
   "execution_count": 64,
   "metadata": {},
   "outputs": [
    {
     "data": {
      "text/plain": [
       "array([20., 20.])"
      ]
     },
     "execution_count": 64,
     "metadata": {},
     "output_type": "execute_result"
    }
   ],
   "source": [
    "vols_asks_1[mask_ask]"
   ]
  },
  {
   "cell_type": "code",
   "execution_count": 62,
   "metadata": {},
   "outputs": [
    {
     "name": "stdout",
     "output_type": "stream",
     "text": [
      "100\n",
      "100\n"
     ]
    },
    {
     "ename": "IndexError",
     "evalue": "boolean index did not match indexed array along dimension 0; dimension is 23 but corresponding boolean dimension is 100",
     "output_type": "error",
     "traceback": [
      "\u001b[0;31m---------------------------------------------------------------------------\u001b[0m",
      "\u001b[0;31mIndexError\u001b[0m                                Traceback (most recent call last)",
      "Input \u001b[0;32mIn [62]\u001b[0m, in \u001b[0;36m<cell line: 3>\u001b[0;34m()\u001b[0m\n\u001b[1;32m     11\u001b[0m asks\u001b[38;5;241m.\u001b[39mappend(volume_2\u001b[38;5;241m-\u001b[39mvolume_1)\n\u001b[1;32m     13\u001b[0m mask_bid \u001b[38;5;241m=\u001b[39m keys_bids \u001b[38;5;241m>\u001b[39m highest_bid \u001b[38;5;241m*\u001b[39m (\u001b[38;5;241m1\u001b[39m \u001b[38;5;241m-\u001b[39m coef)\n\u001b[0;32m---> 14\u001b[0m volume_1 \u001b[38;5;241m=\u001b[39m \u001b[38;5;28msum\u001b[39m(\u001b[43mvols_bids_1\u001b[49m\u001b[43m[\u001b[49m\u001b[43mmask_ask\u001b[49m\u001b[43m]\u001b[49m)\n\u001b[1;32m     15\u001b[0m volume_2 \u001b[38;5;241m=\u001b[39m \u001b[38;5;28msum\u001b[39m(vols_bids_2[mask_ask])\n\u001b[1;32m     17\u001b[0m bids\u001b[38;5;241m.\u001b[39mappend(volume_2\u001b[38;5;241m-\u001b[39mvolume_1)\n",
      "\u001b[0;31mIndexError\u001b[0m: boolean index did not match indexed array along dimension 0; dimension is 23 but corresponding boolean dimension is 100"
     ]
    }
   ],
   "source": [
    "asks = []\n",
    "bids = []\n",
    "for coef in LEVELS:\n",
    "    mask_ask = keys_asks_1 < lowest_ask * (1 + coef)\n",
    "    print(len(mask_ask))\n",
    "    print(len(vols_asks_1))\n",
    "    \n",
    "    volume_1 = sum(vols_asks_1[mask_ask])\n",
    "    volume_2 = sum(vols_asks_2[mask_ask])\n",
    "    \n",
    "    asks.append(volume_2-volume_1)\n",
    "\n",
    "    mask_bid = keys_bids > highest_bid * (1 - coef)\n",
    "    volume_1 = sum(vols_bids_1[mask_ask])\n",
    "    volume_2 = sum(vols_bids_2[mask_ask])\n",
    "    \n",
    "    bids.append(volume_2-volume_1)"
   ]
  },
  {
   "cell_type": "code",
   "execution_count": null,
   "metadata": {},
   "outputs": [],
   "source": []
  },
  {
   "cell_type": "code",
   "execution_count": null,
   "metadata": {},
   "outputs": [],
   "source": []
  },
  {
   "cell_type": "code",
   "execution_count": null,
   "metadata": {},
   "outputs": [],
   "source": []
  },
  {
   "cell_type": "code",
   "execution_count": null,
   "metadata": {},
   "outputs": [],
   "source": []
  },
  {
   "cell_type": "code",
   "execution_count": null,
   "metadata": {},
   "outputs": [],
   "source": []
  },
  {
   "cell_type": "code",
   "execution_count": null,
   "metadata": {},
   "outputs": [],
   "source": []
  },
  {
   "cell_type": "code",
   "execution_count": null,
   "metadata": {},
   "outputs": [],
   "source": []
  },
  {
   "cell_type": "code",
   "execution_count": null,
   "metadata": {},
   "outputs": [],
   "source": []
  },
  {
   "cell_type": "code",
   "execution_count": null,
   "metadata": {},
   "outputs": [],
   "source": []
  },
  {
   "cell_type": "code",
   "execution_count": 61,
   "metadata": {},
   "outputs": [],
   "source": [
    "import requests\n",
    "import datetime\n",
    "import pytz\n",
    "\n",
    "# import logging\n",
    "# logger = logging.getLogger(__name__)\n",
    "\n",
    "\n",
    "class PublicAPIError(Exception):\n",
    "    \"\"\"Ошибка при обращении к публичному API\"\"\"\n",
    "    CODES = {\n",
    "        \"req_error\": \"PUBLIC_API_ERROR:REQUEST_ERROR\",\n",
    "        \"unknown_cmd\": \"PUBLIC_API_ERROR:UNKNOWN_COMMAND\",\n",
    "        \"bad_period\": \"PUBLIC_API_ERROR:BAD_PERIOD\"\n",
    "    }\n",
    "\n",
    "    def __init__(self, err_code, method, body=None):\n",
    "        self.err_code = self.CODES[err_code]\n",
    "        self.method = method\n",
    "        self.body = body\n",
    "\n",
    "    def __str__(self):\n",
    "        message = \"Code: {0}. Method: {1}\".format(self.err_code, self.method)\n",
    "        if self.body is not None:\n",
    "            message += \". Response: {0})\".format(self.body)\n",
    "        return message\n",
    "\n",
    "\n",
    "class PublicAPI:\n",
    "    \"\"\"Класс реализует работу с публичным API poloniex.com\"\"\"\n",
    "    PUBLIC_API_URL = \"https://poloniex.com/public?command=\"\n",
    "    PERIODS = [300, 900, 1800, 7200, 14400, 86400]\n",
    "\n",
    "    def execute(self, command):\n",
    "        try:\n",
    "            response_raw = requests.get(self.PUBLIC_API_URL + command)\n",
    "            response = response_raw.json()\n",
    "        except Exception as e:\n",
    "            raise PublicAPIError(\"req_error\", command, body=e)\n",
    "        return response\n",
    "\n",
    "\n",
    "\n",
    "    def get_trade_history(self, currencyPair, start, end):\n",
    "        \"\"\"\n",
    "        Returns the past 200 trades for a given market,\n",
    "        or up to 1,000 trades between a range specified in UNIX timestamps\n",
    "        by the \"start\" and \"end\" GET parameters\n",
    "        :param str currencyPair: A string that defines the market, \"USDT_BTC\" for example. Use \"all\" for all markets.\n",
    "        :param int start: The start of the window in seconds since the unix epoch.\n",
    "        :param int end: The end of the window in seconds since the unix epoch.\n",
    "        :return: list of trade operation\n",
    "        \"\"\"\n",
    "        if isinstance(start, str):\n",
    "            start = self.date_to_unix_ts_in_utc(start)\n",
    "\n",
    "        if isinstance(end, str):\n",
    "            end = self.date_to_unix_ts_in_utc(end)\n",
    "\n",
    "        command = \"returnTradeHistory&currencyPair={0}&start={1}&end={2}\"\n",
    "\n",
    "        pages = []\n",
    "        done = False\n",
    "        while not done:\n",
    "            response = self.execute(command.format(currencyPair, start, end))\n",
    "            response.sort(key=lambda x: x[\"date\"], reverse=True)\n",
    "            \n",
    "            if len(response):\n",
    "                yield response\n",
    "                \n",
    "                end = self.date_to_unix_ts_in_utc(response[-1][\"date\"]) - 1\n",
    "                if end <= start:\n",
    "                    done = True\n",
    "                \n",
    "            else:\n",
    "                done = True\n",
    "                \n",
    "            \n",
    "            #end = self.date_to_unix_ts_in_utc(response[-1][\"date\"]) - 1\n",
    "            #if end <= start:\n",
    "            #    done = True\n",
    "\n",
    "\n",
    "            \n",
    "                \n",
    "\n",
    "\n",
    "    @staticmethod\n",
    "    def date_to_unix_ts_in_utc(date):\n",
    "        timezone = pytz.timezone(\"UTC\")\n",
    "        without_timezone = datetime.datetime.strptime(date, \"%Y-%m-%d %H:%M:%S\")\n",
    "        with_timezone = timezone.localize(without_timezone)\n",
    "        return int(with_timezone.timestamp())\n"
   ]
  },
  {
   "cell_type": "code",
   "execution_count": 62,
   "metadata": {},
   "outputs": [],
   "source": [
    "api = PublicAPI()"
   ]
  },
  {
   "cell_type": "code",
   "execution_count": 75,
   "metadata": {},
   "outputs": [
    {
     "ename": "AttributeError",
     "evalue": "'dict' object has no attribute 'sort'",
     "output_type": "error",
     "traceback": [
      "\u001b[0;31m---------------------------------------------------------------------------\u001b[0m",
      "\u001b[0;31mAttributeError\u001b[0m                            Traceback (most recent call last)",
      "Input \u001b[0;32mIn [75]\u001b[0m, in \u001b[0;36m<cell line: 5>\u001b[0;34m()\u001b[0m\n\u001b[1;32m      2\u001b[0m end \u001b[38;5;241m=\u001b[39m \u001b[38;5;124m\"\u001b[39m\u001b[38;5;124m2022-07-01 10:00:03\u001b[39m\u001b[38;5;124m\"\u001b[39m\n\u001b[1;32m      3\u001b[0m pair \u001b[38;5;241m=\u001b[39m \u001b[38;5;124m\"\u001b[39m\u001b[38;5;124mUSDT_BTsC\u001b[39m\u001b[38;5;124m\"\u001b[39m\n\u001b[0;32m----> 5\u001b[0m \u001b[38;5;28;01mfor\u001b[39;00m resp \u001b[38;5;129;01min\u001b[39;00m api\u001b[38;5;241m.\u001b[39mget_trade_history(pair, start, end):\n\u001b[1;32m      6\u001b[0m     \u001b[38;5;28mprint\u001b[39m(\u001b[38;5;28mlen\u001b[39m(resp))\n\u001b[1;32m      7\u001b[0m     \u001b[38;5;28mprint\u001b[39m(resp[\u001b[38;5;241m0\u001b[39m][\u001b[38;5;124m\"\u001b[39m\u001b[38;5;124mdate\u001b[39m\u001b[38;5;124m\"\u001b[39m], resp[\u001b[38;5;241m-\u001b[39m\u001b[38;5;241m1\u001b[39m][\u001b[38;5;124m\"\u001b[39m\u001b[38;5;124mdate\u001b[39m\u001b[38;5;124m\"\u001b[39m])\n",
      "Input \u001b[0;32mIn [61]\u001b[0m, in \u001b[0;36mPublicAPI.get_trade_history\u001b[0;34m(self, currencyPair, start, end)\u001b[0m\n\u001b[1;32m     64\u001b[0m \u001b[38;5;28;01mwhile\u001b[39;00m \u001b[38;5;129;01mnot\u001b[39;00m done:\n\u001b[1;32m     65\u001b[0m     response \u001b[38;5;241m=\u001b[39m \u001b[38;5;28mself\u001b[39m\u001b[38;5;241m.\u001b[39mexecute(command\u001b[38;5;241m.\u001b[39mformat(currencyPair, start, end))\n\u001b[0;32m---> 66\u001b[0m     \u001b[43mresponse\u001b[49m\u001b[38;5;241;43m.\u001b[39;49m\u001b[43msort\u001b[49m(key\u001b[38;5;241m=\u001b[39m\u001b[38;5;28;01mlambda\u001b[39;00m x: x[\u001b[38;5;124m\"\u001b[39m\u001b[38;5;124mdate\u001b[39m\u001b[38;5;124m\"\u001b[39m], reverse\u001b[38;5;241m=\u001b[39m\u001b[38;5;28;01mTrue\u001b[39;00m)\n\u001b[1;32m     68\u001b[0m     \u001b[38;5;28;01mif\u001b[39;00m \u001b[38;5;28mlen\u001b[39m(response):\n\u001b[1;32m     69\u001b[0m         \u001b[38;5;28;01myield\u001b[39;00m response\n",
      "\u001b[0;31mAttributeError\u001b[0m: 'dict' object has no attribute 'sort'"
     ]
    }
   ],
   "source": [
    "start = \"2022-07-01 10:00:04\"\n",
    "end = \"2022-07-01 10:00:03\"\n",
    "pair = \"USDT_BTsC\"\n",
    "\n",
    "for resp in api.get_trade_history(pair, start, end):\n",
    "    print(len(resp))\n",
    "    print(resp[0][\"date\"], resp[-1][\"date\"])\n",
    "\n",
    "    \n",
    "    "
   ]
  },
  {
   "cell_type": "code",
   "execution_count": null,
   "metadata": {},
   "outputs": [],
   "source": []
  },
  {
   "cell_type": "code",
   "execution_count": 21,
   "metadata": {},
   "outputs": [
    {
     "data": {
      "text/plain": [
       "'2022-07-01 10:00:05'"
      ]
     },
     "execution_count": 21,
     "metadata": {},
     "output_type": "execute_result"
    }
   ],
   "source": [
    "resp[-1][\"date\"]"
   ]
  },
  {
   "cell_type": "code",
   "execution_count": null,
   "metadata": {},
   "outputs": [],
   "source": []
  },
  {
   "cell_type": "code",
   "execution_count": null,
   "metadata": {},
   "outputs": [],
   "source": []
  },
  {
   "cell_type": "code",
   "execution_count": null,
   "metadata": {},
   "outputs": [],
   "source": []
  }
 ],
 "metadata": {
  "kernelspec": {
   "display_name": "rt_project_env",
   "language": "python",
   "name": "rt_project_env"
  },
  "language_info": {
   "codemirror_mode": {
    "name": "ipython",
    "version": 3
   },
   "file_extension": ".py",
   "mimetype": "text/x-python",
   "name": "python",
   "nbconvert_exporter": "python",
   "pygments_lexer": "ipython3",
   "version": "3.9.8"
  }
 },
 "nbformat": 4,
 "nbformat_minor": 4
}
